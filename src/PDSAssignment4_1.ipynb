{
  "nbformat": 4,
  "nbformat_minor": 0,
  "metadata": {
    "colab": {
      "provenance": []
    },
    "kernelspec": {
      "name": "python3",
      "display_name": "Python 3"
    },
    "language_info": {
      "name": "python"
    }
  },
  "cells": [
    {
      "cell_type": "code",
      "execution_count": 14,
      "metadata": {
        "colab": {
          "base_uri": "https://localhost:8080/"
        },
        "id": "N6eSz6EATmfk",
        "outputId": "93abf1db-7794-40a0-8697-fd4fd6565f8f"
      },
      "outputs": [
        {
          "output_type": "stream",
          "name": "stdout",
          "text": [
            "Requirement already satisfied: requests in /usr/local/lib/python3.10/dist-packages (2.31.0)\n",
            "Requirement already satisfied: dash in /usr/local/lib/python3.10/dist-packages (2.16.1)\n",
            "Requirement already satisfied: charset-normalizer<4,>=2 in /usr/local/lib/python3.10/dist-packages (from requests) (3.3.2)\n",
            "Requirement already satisfied: idna<4,>=2.5 in /usr/local/lib/python3.10/dist-packages (from requests) (3.6)\n",
            "Requirement already satisfied: urllib3<3,>=1.21.1 in /usr/local/lib/python3.10/dist-packages (from requests) (2.0.7)\n",
            "Requirement already satisfied: certifi>=2017.4.17 in /usr/local/lib/python3.10/dist-packages (from requests) (2024.2.2)\n",
            "Requirement already satisfied: Flask<3.1,>=1.0.4 in /usr/local/lib/python3.10/dist-packages (from dash) (2.2.5)\n",
            "Requirement already satisfied: Werkzeug<3.1 in /usr/local/lib/python3.10/dist-packages (from dash) (3.0.2)\n",
            "Requirement already satisfied: plotly>=5.0.0 in /usr/local/lib/python3.10/dist-packages (from dash) (5.15.0)\n",
            "Requirement already satisfied: dash-html-components==2.0.0 in /usr/local/lib/python3.10/dist-packages (from dash) (2.0.0)\n",
            "Requirement already satisfied: dash-core-components==2.0.0 in /usr/local/lib/python3.10/dist-packages (from dash) (2.0.0)\n",
            "Requirement already satisfied: dash-table==5.0.0 in /usr/local/lib/python3.10/dist-packages (from dash) (5.0.0)\n",
            "Requirement already satisfied: importlib-metadata in /usr/local/lib/python3.10/dist-packages (from dash) (7.1.0)\n",
            "Requirement already satisfied: typing-extensions>=4.1.1 in /usr/local/lib/python3.10/dist-packages (from dash) (4.11.0)\n",
            "Requirement already satisfied: retrying in /usr/local/lib/python3.10/dist-packages (from dash) (1.3.4)\n",
            "Requirement already satisfied: nest-asyncio in /usr/local/lib/python3.10/dist-packages (from dash) (1.6.0)\n",
            "Requirement already satisfied: setuptools in /usr/local/lib/python3.10/dist-packages (from dash) (67.7.2)\n",
            "Requirement already satisfied: Jinja2>=3.0 in /usr/local/lib/python3.10/dist-packages (from Flask<3.1,>=1.0.4->dash) (3.1.3)\n",
            "Requirement already satisfied: itsdangerous>=2.0 in /usr/local/lib/python3.10/dist-packages (from Flask<3.1,>=1.0.4->dash) (2.1.2)\n",
            "Requirement already satisfied: click>=8.0 in /usr/local/lib/python3.10/dist-packages (from Flask<3.1,>=1.0.4->dash) (8.1.7)\n",
            "Requirement already satisfied: tenacity>=6.2.0 in /usr/local/lib/python3.10/dist-packages (from plotly>=5.0.0->dash) (8.2.3)\n",
            "Requirement already satisfied: packaging in /usr/local/lib/python3.10/dist-packages (from plotly>=5.0.0->dash) (24.0)\n",
            "Requirement already satisfied: MarkupSafe>=2.1.1 in /usr/local/lib/python3.10/dist-packages (from Werkzeug<3.1->dash) (2.1.5)\n",
            "Requirement already satisfied: zipp>=0.5 in /usr/local/lib/python3.10/dist-packages (from importlib-metadata->dash) (3.18.1)\n",
            "Requirement already satisfied: six>=1.7.0 in /usr/local/lib/python3.10/dist-packages (from retrying->dash) (1.16.0)\n"
          ]
        }
      ],
      "source": [
        "pip install requests dash"
      ]
    },
    {
      "cell_type": "code",
      "source": [
        "import requests\n",
        "\n",
        "url = \"https://sportspage-feeds.p.rapidapi.com/rankings\"\n",
        "\n",
        "querystring = {\"league\":\"NCAAF\"}\n",
        "\n",
        "headers = {\n",
        "\t\"X-RapidAPI-Key\": \"7c8394ea12mshee2c3c18f44dd84p1b526fjsn1933e91b972e\",\n",
        "\t\"X-RapidAPI-Host\": \"sportspage-feeds.p.rapidapi.com\"\n",
        "}\n",
        "\n",
        "response = requests.get(url, headers=headers, params=querystring)\n",
        "\n",
        "print(response.json())"
      ],
      "metadata": {
        "colab": {
          "base_uri": "https://localhost:8080/"
        },
        "id": "9V6wwOm2TwPS",
        "outputId": "8726fbf0-7c66-4957-c6e4-5da403ea7c36"
      },
      "execution_count": null,
      "outputs": [
        {
          "output_type": "stream",
          "name": "stdout",
          "text": [
            "{'status': 200, 'time': '2024-04-16T06:30:35.762Z', 'results': [{'name': 'AP Poll', 'rankings': [{'rank': 1, 'team': 'Michigan', 'teamId': 1056}, {'rank': 2, 'team': 'Washington', 'teamId': 1320}, {'rank': 3, 'team': 'Texas', 'teamId': 1398}, {'rank': 4, 'team': 'Georgia', 'teamId': 1365}, {'rank': 5, 'team': 'Alabama', 'teamId': 1265}, {'rank': 6, 'team': 'Florida State', 'teamId': 1048}, {'rank': 6, 'team': 'Oregon', 'teamId': 1388}, {'rank': 8, 'team': 'Missouri', 'teamId': 1293}, {'rank': 9, 'team': 'Mississippi', 'teamId': 1138}, {'rank': 10, 'team': 'Ohio State', 'teamId': 1387}, {'rank': 11, 'team': 'Arizona', 'teamId': 1113}, {'rank': 12, 'team': 'LSU', 'teamId': 1375}, {'rank': 13, 'team': 'Penn State', 'teamId': 1302}, {'rank': 14, 'team': 'Notre Dame', 'teamId': 1064}, {'rank': 15, 'team': 'Oklahoma', 'teamId': 1065}, {'rank': 16, 'team': 'Oklahoma State', 'teamId': 1145}, {'rank': 17, 'team': 'Tennessee', 'teamId': 1397}, {'rank': 18, 'team': 'Kansas State', 'teamId': 1132}, {'rank': 19, 'team': 'Louisville', 'teamId': 1054}, {'rank': 20, 'team': 'Clemson', 'teamId': 1272}, {'rank': 21, 'team': 'NC State', 'teamId': 1141}, {'rank': 22, 'team': 'SMU', 'teamId': 1307}, {'rank': 23, 'team': 'Kansas', 'teamId': 1053}, {'rank': 24, 'team': 'Iowa', 'teamId': 1209}, {'rank': 25, 'team': 'Liberty', 'teamId': 1373}]}, {'name': 'Coaches Poll', 'rankings': [{'rank': 1, 'team': 'Michigan', 'teamId': 1056}, {'rank': 2, 'team': 'Washington', 'teamId': 1320}, {'rank': 3, 'team': 'Georgia', 'teamId': 1365}, {'rank': 4, 'team': 'Texas', 'teamId': 1398}, {'rank': 5, 'team': 'Alabama', 'teamId': 1265}, {'rank': 6, 'team': 'Florida State', 'teamId': 1048}, {'rank': 7, 'team': 'Oregon', 'teamId': 1388}, {'rank': 8, 'team': 'Missouri', 'teamId': 1293}, {'rank': 9, 'team': 'Mississippi', 'teamId': 1138}, {'rank': 10, 'team': 'Ohio State', 'teamId': 1387}, {'rank': 11, 'team': 'Arizona', 'teamId': 1113}, {'rank': 12, 'team': 'LSU', 'teamId': 1375}, {'rank': 13, 'team': 'Penn State', 'teamId': 1302}, {'rank': 14, 'team': 'Notre Dame', 'teamId': 1064}, {'rank': 15, 'team': 'Oklahoma', 'teamId': 1065}, {'rank': 16, 'team': 'Oklahoma State', 'teamId': 1145}, {'rank': 17, 'team': 'Tennessee', 'teamId': 1397}, {'rank': 18, 'team': 'Louisville', 'teamId': 1054}, {'rank': 19, 'team': 'Kansas State', 'teamId': 1132}, {'rank': 20, 'team': 'Clemson', 'teamId': 1272}, {'rank': 21, 'team': 'NC State', 'teamId': 1141}, {'rank': 22, 'team': 'Iowa', 'teamId': 1209}, {'rank': 23, 'team': 'Kansas', 'teamId': 1053}, {'rank': 24, 'team': 'SMU', 'teamId': 1307}, {'rank': 25, 'team': 'West Virginia', 'teamId': 1238}]}]}\n"
          ]
        }
      ]
    },
    {
      "cell_type": "code",
      "source": [
        "response_json = response.json()"
      ],
      "metadata": {
        "id": "2n7ozoy3TzKB"
      },
      "execution_count": 15,
      "outputs": []
    },
    {
      "cell_type": "code",
      "source": [
        "import dash\n",
        "import dash_html_components as html"
      ],
      "metadata": {
        "colab": {
          "base_uri": "https://localhost:8080/"
        },
        "id": "IXDZbYJ-oXNQ",
        "outputId": "8badbd91-54d5-4c49-ed9a-bd5e3c328756"
      },
      "execution_count": 16,
      "outputs": [
        {
          "output_type": "stream",
          "name": "stderr",
          "text": [
            "<ipython-input-16-8635390e5d03>:2: UserWarning: \n",
            "The dash_html_components package is deprecated. Please replace\n",
            "`import dash_html_components as html` with `from dash import html`\n",
            "  import dash_html_components as html\n"
          ]
        }
      ]
    },
    {
      "cell_type": "code",
      "source": [
        "import json\n",
        "json_string = json.dumps(response_json)\n",
        "\n",
        "print(json_string)"
      ],
      "metadata": {
        "colab": {
          "base_uri": "https://localhost:8080/"
        },
        "id": "-ukAVZr5T2Dq",
        "outputId": "7307fccf-ca5c-401e-8fe5-13af0212d709"
      },
      "execution_count": 17,
      "outputs": [
        {
          "output_type": "stream",
          "name": "stdout",
          "text": [
            "{\"status\": 200, \"time\": \"2024-04-16T06:30:35.762Z\", \"results\": [{\"name\": \"AP Poll\", \"rankings\": [{\"rank\": 1, \"team\": \"Michigan\", \"teamId\": 1056}, {\"rank\": 2, \"team\": \"Washington\", \"teamId\": 1320}, {\"rank\": 3, \"team\": \"Texas\", \"teamId\": 1398}, {\"rank\": 4, \"team\": \"Georgia\", \"teamId\": 1365}, {\"rank\": 5, \"team\": \"Alabama\", \"teamId\": 1265}, {\"rank\": 6, \"team\": \"Florida State\", \"teamId\": 1048}, {\"rank\": 6, \"team\": \"Oregon\", \"teamId\": 1388}, {\"rank\": 8, \"team\": \"Missouri\", \"teamId\": 1293}, {\"rank\": 9, \"team\": \"Mississippi\", \"teamId\": 1138}, {\"rank\": 10, \"team\": \"Ohio State\", \"teamId\": 1387}, {\"rank\": 11, \"team\": \"Arizona\", \"teamId\": 1113}, {\"rank\": 12, \"team\": \"LSU\", \"teamId\": 1375}, {\"rank\": 13, \"team\": \"Penn State\", \"teamId\": 1302}, {\"rank\": 14, \"team\": \"Notre Dame\", \"teamId\": 1064}, {\"rank\": 15, \"team\": \"Oklahoma\", \"teamId\": 1065}, {\"rank\": 16, \"team\": \"Oklahoma State\", \"teamId\": 1145}, {\"rank\": 17, \"team\": \"Tennessee\", \"teamId\": 1397}, {\"rank\": 18, \"team\": \"Kansas State\", \"teamId\": 1132}, {\"rank\": 19, \"team\": \"Louisville\", \"teamId\": 1054}, {\"rank\": 20, \"team\": \"Clemson\", \"teamId\": 1272}, {\"rank\": 21, \"team\": \"NC State\", \"teamId\": 1141}, {\"rank\": 22, \"team\": \"SMU\", \"teamId\": 1307}, {\"rank\": 23, \"team\": \"Kansas\", \"teamId\": 1053}, {\"rank\": 24, \"team\": \"Iowa\", \"teamId\": 1209}, {\"rank\": 25, \"team\": \"Liberty\", \"teamId\": 1373}]}, {\"name\": \"Coaches Poll\", \"rankings\": [{\"rank\": 1, \"team\": \"Michigan\", \"teamId\": 1056}, {\"rank\": 2, \"team\": \"Washington\", \"teamId\": 1320}, {\"rank\": 3, \"team\": \"Georgia\", \"teamId\": 1365}, {\"rank\": 4, \"team\": \"Texas\", \"teamId\": 1398}, {\"rank\": 5, \"team\": \"Alabama\", \"teamId\": 1265}, {\"rank\": 6, \"team\": \"Florida State\", \"teamId\": 1048}, {\"rank\": 7, \"team\": \"Oregon\", \"teamId\": 1388}, {\"rank\": 8, \"team\": \"Missouri\", \"teamId\": 1293}, {\"rank\": 9, \"team\": \"Mississippi\", \"teamId\": 1138}, {\"rank\": 10, \"team\": \"Ohio State\", \"teamId\": 1387}, {\"rank\": 11, \"team\": \"Arizona\", \"teamId\": 1113}, {\"rank\": 12, \"team\": \"LSU\", \"teamId\": 1375}, {\"rank\": 13, \"team\": \"Penn State\", \"teamId\": 1302}, {\"rank\": 14, \"team\": \"Notre Dame\", \"teamId\": 1064}, {\"rank\": 15, \"team\": \"Oklahoma\", \"teamId\": 1065}, {\"rank\": 16, \"team\": \"Oklahoma State\", \"teamId\": 1145}, {\"rank\": 17, \"team\": \"Tennessee\", \"teamId\": 1397}, {\"rank\": 18, \"team\": \"Louisville\", \"teamId\": 1054}, {\"rank\": 19, \"team\": \"Kansas State\", \"teamId\": 1132}, {\"rank\": 20, \"team\": \"Clemson\", \"teamId\": 1272}, {\"rank\": 21, \"team\": \"NC State\", \"teamId\": 1141}, {\"rank\": 22, \"team\": \"Iowa\", \"teamId\": 1209}, {\"rank\": 23, \"team\": \"Kansas\", \"teamId\": 1053}, {\"rank\": 24, \"team\": \"SMU\", \"teamId\": 1307}, {\"rank\": 25, \"team\": \"West Virginia\", \"teamId\": 1238}]}]}\n"
          ]
        }
      ]
    },
    {
      "cell_type": "code",
      "source": [
        "import pandas as pd\n",
        "from dash import dash_table\n",
        "from dash.dash_table.Format import Group\n",
        "from dash_table import DataTable\n",
        "\n",
        "\n",
        "df_ap = pd.DataFrame(response_json['results'][0]['rankings'])\n",
        "df_coaches = pd.DataFrame(response_json['results'][1]['rankings'])\n",
        "\n",
        "app = dash.Dash(__name__)\n",
        "\n",
        "app.layout = html.Div([\n",
        "    html.H1(\"Sportspage Feeds\"),\n",
        "    html.Div([\n",
        "        html.H2(\"AP Poll\"),\n",
        "        DataTable(\n",
        "            id='table_ap',\n",
        "            columns=[{\"name\": i, \"id\": i} for i in df_ap.columns],\n",
        "            data=df_ap.to_dict('records')\n",
        "        )\n",
        "    ]),\n",
        "    html.Div([\n",
        "        html.H2(\"Coaches Poll\"),\n",
        "        DataTable(\n",
        "            id='table_coaches',\n",
        "            columns=[{\"name\": i, \"id\": i} for i in df_coaches.columns],\n",
        "            data=df_coaches.to_dict('records')\n",
        "        )\n",
        "    ])\n",
        "])\n",
        "if __name__ == '__main__':\n",
        "    app.run_server(debug=True)"
      ],
      "metadata": {
        "colab": {
          "base_uri": "https://localhost:8080/",
          "height": 849
        },
        "id": "5o9ZN3X8T5X5",
        "outputId": "6d8ac555-1af2-4b14-93ab-7e015b9c1750"
      },
      "execution_count": 19,
      "outputs": [
        {
          "output_type": "stream",
          "name": "stderr",
          "text": [
            "<ipython-input-19-b58eb529b53c>:4: UserWarning:\n",
            "\n",
            "\n",
            "The dash_table package is deprecated. Please replace\n",
            "`import dash_table` with `from dash import dash_table`\n",
            "\n",
            "Also, if you're using any of the table format helpers (e.g. Group), replace \n",
            "`from dash_table.Format import Group` with \n",
            "`from dash.dash_table.Format import Group`\n",
            "\n"
          ]
        },
        {
          "output_type": "display_data",
          "data": {
            "text/plain": [
              "<IPython.core.display.Javascript object>"
            ],
            "application/javascript": [
              "(async (port, path, width, height, cache, element) => {\n",
              "    if (!google.colab.kernel.accessAllowed && !cache) {\n",
              "      return;\n",
              "    }\n",
              "    element.appendChild(document.createTextNode(''));\n",
              "    const url = await google.colab.kernel.proxyPort(port, {cache});\n",
              "    const iframe = document.createElement('iframe');\n",
              "    iframe.src = new URL(path, url).toString();\n",
              "    iframe.height = height;\n",
              "    iframe.width = width;\n",
              "    iframe.style.border = 0;\n",
              "    iframe.allow = [\n",
              "        'accelerometer',\n",
              "        'autoplay',\n",
              "        'camera',\n",
              "        'clipboard-read',\n",
              "        'clipboard-write',\n",
              "        'gyroscope',\n",
              "        'magnetometer',\n",
              "        'microphone',\n",
              "        'serial',\n",
              "        'usb',\n",
              "        'xr-spatial-tracking',\n",
              "    ].join('; ');\n",
              "    element.appendChild(iframe);\n",
              "  })(8050, \"/\", \"100%\", 650, false, window.element)"
            ]
          },
          "metadata": {}
        }
      ]
    },
    {
      "cell_type": "code",
      "source": [],
      "metadata": {
        "id": "jFTTnJo-msut"
      },
      "execution_count": null,
      "outputs": []
    }
  ]
}